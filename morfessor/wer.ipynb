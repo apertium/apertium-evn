{
 "cells": [
  {
   "cell_type": "code",
   "execution_count": 1,
   "metadata": {},
   "outputs": [],
   "source": [
    "import morfessor\n",
    "import json\n",
    "\n",
    "io = morfessor.MorfessorIO()\n",
    "model = io.read_any_model('model_recursive')"
   ]
  },
  {
   "cell_type": "code",
   "execution_count": 2,
   "metadata": {},
   "outputs": [],
   "source": [
    "with open('morfessor_res') as f:\n",
    "    morfessor_segmentation = f.read().split('\\n')"
   ]
  },
  {
   "cell_type": "code",
   "execution_count": 3,
   "metadata": {},
   "outputs": [],
   "source": [
    "with open('gold_std_dict', 'r') as f:\n",
    "    gold_std_dict = json.load(f)"
   ]
  },
  {
   "cell_type": "code",
   "execution_count": 4,
   "metadata": {},
   "outputs": [],
   "source": [
    "from wer import editDistance\n",
    "\n",
    "def get_wer_result(r, h):\n",
    "    res = editDistance(r, h)\n",
    "    return float(res[len(r)][len(h)]) / len(r)"
   ]
  },
  {
   "cell_type": "code",
   "execution_count": 5,
   "metadata": {},
   "outputs": [],
   "source": [
    "def evaluate_segmentation_morfessor(segmenter, segmentation):\n",
    "\n",
    "    wer_score_sum = 0\n",
    "\n",
    "    for i, word in enumerate(gold_std_dict):\n",
    "        wer_best = float('+inf')\n",
    "        seg = segmentation[i]\n",
    "        \n",
    "        for reference in gold_std_dict[word]:\n",
    "#             print(reference, seg)\n",
    "            wer_score = get_wer_result(reference.split(), seg.split())\n",
    "            wer_best = min(wer_best, wer_score)\n",
    "\n",
    "        wer_score_sum += wer_best    \n",
    "    \n",
    "    print('wer: {:.3%}\\n'.format(wer_score_sum / len(gold_std_dict)))"
   ]
  },
  {
   "cell_type": "code",
   "execution_count": 6,
   "metadata": {},
   "outputs": [
    {
     "name": "stdout",
     "output_type": "stream",
     "text": [
      "wer: 100.779%\n",
      "\n"
     ]
    }
   ],
   "source": [
    "evaluate_segmentation_morfessor(model, morfessor_segmentation)"
   ]
  },
  {
   "cell_type": "code",
   "execution_count": null,
   "metadata": {},
   "outputs": [],
   "source": []
  }
 ],
 "metadata": {
  "kernelspec": {
   "display_name": "Python 3",
   "language": "python",
   "name": "python3"
  },
  "language_info": {
   "codemirror_mode": {
    "name": "ipython",
    "version": 3
   },
   "file_extension": ".py",
   "mimetype": "text/x-python",
   "name": "python",
   "nbconvert_exporter": "python",
   "pygments_lexer": "ipython3",
   "version": "3.7.3"
  }
 },
 "nbformat": 4,
 "nbformat_minor": 2
}
