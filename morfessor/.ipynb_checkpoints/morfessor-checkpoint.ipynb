{
 "cells": [
  {
   "cell_type": "code",
   "execution_count": 1,
   "metadata": {},
   "outputs": [],
   "source": [
    "import morfessor\n",
    "import numpy as np"
   ]
  },
  {
   "cell_type": "code",
   "execution_count": 2,
   "metadata": {},
   "outputs": [],
   "source": [
    "io = morfessor.MorfessorIO()\n",
    "train_data = list(io.read_corpus_file('all_not_annotated_texts.txt'))"
   ]
  },
  {
   "cell_type": "code",
   "execution_count": 3,
   "metadata": {},
   "outputs": [
    {
     "name": "stderr",
     "output_type": "stream",
     "text": [
      "...........................................................\n",
      "...........................................................\n",
      "...........................................................\n",
      "...........................................................\n",
      "...........................................................\n",
      "...........................................................\n"
     ]
    },
    {
     "data": {
      "text/plain": [
       "(6, 3954488.5240832674)"
      ]
     },
     "execution_count": 3,
     "metadata": {},
     "output_type": "execute_result"
    }
   ],
   "source": [
    "model_recursive = morfessor.BaselineModel()\n",
    "model_recursive.load_data(train_data)\n",
    "model_recursive.train_batch(algorithm='recursive')"
   ]
  },
  {
   "cell_type": "code",
   "execution_count": 4,
   "metadata": {},
   "outputs": [
    {
     "name": "stderr",
     "output_type": "stream",
     "text": [
      "...........................................................\n",
      "...........................................................\n"
     ]
    },
    {
     "data": {
      "text/plain": [
       "(2, 4950154.969666941)"
      ]
     },
     "execution_count": 4,
     "metadata": {},
     "output_type": "execute_result"
    }
   ],
   "source": [
    "model_viterbi = morfessor.BaselineModel()\n",
    "model_viterbi.load_data(train_data)\n",
    "model_viterbi.train_batch(algorithm='viterbi')"
   ]
  },
  {
   "cell_type": "code",
   "execution_count": 5,
   "metadata": {},
   "outputs": [
    {
     "name": "stderr",
     "output_type": "stream",
     "text": [
      "The test set is too small for this sample size\n"
     ]
    }
   ],
   "source": [
    "goldstd_data = io.read_annotations_file('gold_std')\n",
    "\n",
    "ev = morfessor.MorfessorEvaluation(goldstd_data)\n",
    "result_recursive = ev.evaluate_model(model_recursive)\n",
    "result_viterbi = ev.evaluate_model(model_viterbi)"
   ]
  },
  {
   "cell_type": "code",
   "execution_count": 6,
   "metadata": {},
   "outputs": [
    {
     "data": {
      "text/plain": [
       "(0.4906965476190471, 0.6080966666666667, 0.5430193041739415)"
      ]
     },
     "execution_count": 6,
     "metadata": {},
     "output_type": "execute_result"
    }
   ],
   "source": [
    "# recursive\n",
    "np.mean(result_recursive.precision), np.mean(result_recursive.recall), np.mean(result_recursive.fscore)"
   ]
  },
  {
   "cell_type": "code",
   "execution_count": 7,
   "metadata": {},
   "outputs": [
    {
     "data": {
      "text/plain": [
       "(0.7957216666666668, 0.3194133333333333, 0.45571057717698826)"
      ]
     },
     "execution_count": 7,
     "metadata": {},
     "output_type": "execute_result"
    }
   ],
   "source": [
    "# viterbi\n",
    "np.mean(result_viterbi.precision), np.mean(result_viterbi.recall), np.mean(result_viterbi.fscore)"
   ]
  },
  {
   "cell_type": "code",
   "execution_count": null,
   "metadata": {},
   "outputs": [],
   "source": []
  }
 ],
 "metadata": {
  "kernelspec": {
   "display_name": "Python 3",
   "language": "python",
   "name": "python3"
  },
  "language_info": {
   "codemirror_mode": {
    "name": "ipython",
    "version": 3
   },
   "file_extension": ".py",
   "mimetype": "text/x-python",
   "name": "python",
   "nbconvert_exporter": "python",
   "pygments_lexer": "ipython3",
   "version": "3.7.3"
  }
 },
 "nbformat": 4,
 "nbformat_minor": 2
}
