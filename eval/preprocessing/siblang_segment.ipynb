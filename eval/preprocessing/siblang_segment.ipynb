{
 "cells": [
  {
   "cell_type": "markdown",
   "metadata": {},
   "source": [
    "### Segment the wordforms from Siblang"
   ]
  },
  {
   "cell_type": "code",
   "execution_count": null,
   "metadata": {},
   "outputs": [],
   "source": [
    "import re\n",
    "import json\n",
    "from collections import defaultdict\n",
    "from siblang_segment import get_cyrillic_segmented"
   ]
  },
  {
   "cell_type": "code",
   "execution_count": null,
   "metadata": {},
   "outputs": [],
   "source": [
    "with open('siblang_words.json', 'r') as f:\n",
    "    siblang_words = json.load(f)"
   ]
  },
  {
   "cell_type": "code",
   "execution_count": null,
   "metadata": {},
   "outputs": [],
   "source": [
    "with open('../siblang_tags.json', 'r') as f:\n",
    "    siblang_tags = json.load(f)"
   ]
  },
  {
   "cell_type": "code",
   "execution_count": null,
   "metadata": {},
   "outputs": [],
   "source": [
    "siblang_segmentation = defaultdict(list)\n",
    "\n",
    "for wordform in siblang_tags:\n",
    "    \n",
    "    if wordform in siblang_words:\n",
    "        segmented = get_cyrillic_segmented(wordform,\n",
    "                                           siblang_words[wordform]['segmented'])\n",
    "        if segmented:\n",
    "            wordform = re.sub('[-=]+', '', wordform)\n",
    "            siblang_segmentation[wordform] = segmented"
   ]
  },
  {
   "cell_type": "code",
   "execution_count": null,
   "metadata": {},
   "outputs": [],
   "source": [
    "with open('../siblang_segmentation.json', 'w') as fw:\n",
    "    json.dump(siblang_segmentation, fw, \n",
    "              ensure_ascii=False,\n",
    "              indent=4,\n",
    "              sort_keys=True,\n",
    "              separators=(',', ': '))"
   ]
  },
  {
   "cell_type": "markdown",
   "metadata": {},
   "source": [
    "The exceptions, where the wordform doesn't exactly match the segmented form, were manually corrected and added to [siblang_segmentation.json](../blob/master/eval/preprocessing/siblang_segmentation.json) and [siblang_tags.json](../blob/master/eval/preprocessing/siblang_tags.json). The corrections are listed in [segmentation_changed.tsv](../blob/master/eval/preprocessing/segmentation_changed.tsv)."
   ]
  }
 ],
 "metadata": {
  "kernelspec": {
   "display_name": "Python 3",
   "language": "python",
   "name": "python3"
  },
  "language_info": {
   "codemirror_mode": {
    "name": "ipython",
    "version": 3
   },
   "file_extension": ".py",
   "mimetype": "text/x-python",
   "name": "python",
   "nbconvert_exporter": "python",
   "pygments_lexer": "ipython3",
   "version": "3.7.3"
  }
 },
 "nbformat": 4,
 "nbformat_minor": 2
}
