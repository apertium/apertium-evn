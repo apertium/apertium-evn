{
 "cells": [
  {
   "cell_type": "code",
   "execution_count": 1,
   "metadata": {},
   "outputs": [],
   "source": [
    "import morfessor\n",
    "import json\n",
    "import numpy as np"
   ]
  },
  {
   "cell_type": "markdown",
   "metadata": {},
   "source": [
    "### Train"
   ]
  },
  {
   "cell_type": "code",
   "execution_count": 2,
   "metadata": {},
   "outputs": [],
   "source": [
    "io = morfessor.MorfessorIO()\n",
    "train_data = list(io.read_corpus_file('non-annotated.txt'))"
   ]
  },
  {
   "cell_type": "code",
   "execution_count": 3,
   "metadata": {},
   "outputs": [
    {
     "name": "stderr",
     "output_type": "stream",
     "text": [
      "...........................................................\n",
      "...........................................................\n",
      "...........................................................\n",
      "...........................................................\n",
      "...........................................................\n",
      "...........................................................\n"
     ]
    },
    {
     "data": {
      "text/plain": [
       "(6, 3631759.648944667)"
      ]
     },
     "execution_count": 3,
     "metadata": {},
     "output_type": "execute_result"
    }
   ],
   "source": [
    "model_recursive = morfessor.BaselineModel()\n",
    "model_recursive.load_data(train_data)\n",
    "model_recursive.train_batch(algorithm='recursive')"
   ]
  },
  {
   "cell_type": "code",
   "execution_count": 4,
   "metadata": {},
   "outputs": [
    {
     "name": "stderr",
     "output_type": "stream",
     "text": [
      "...........................................................\n",
      "...........................................................\n"
     ]
    },
    {
     "data": {
      "text/plain": [
       "(2, 4301783.421123428)"
      ]
     },
     "execution_count": 4,
     "metadata": {},
     "output_type": "execute_result"
    }
   ],
   "source": [
    "model_viterbi = morfessor.BaselineModel()\n",
    "model_viterbi.load_data(train_data)\n",
    "model_viterbi.train_batch(algorithm='viterbi')"
   ]
  },
  {
   "cell_type": "markdown",
   "metadata": {},
   "source": [
    "### Evaluate"
   ]
  },
  {
   "cell_type": "code",
   "execution_count": 5,
   "metadata": {},
   "outputs": [
    {
     "name": "stderr",
     "output_type": "stream",
     "text": [
      "The test set is too small for this sample size\n"
     ]
    }
   ],
   "source": [
    "goldstd_data = io.read_annotations_file('gold_std_bpr.tsv')\n",
    "\n",
    "ev = morfessor.MorfessorEvaluation(goldstd_data)\n",
    "result_recursive = ev.evaluate_model(model_recursive)\n",
    "result_viterbi = ev.evaluate_model(model_viterbi)"
   ]
  },
  {
   "cell_type": "code",
   "execution_count": 6,
   "metadata": {},
   "outputs": [
    {
     "data": {
      "text/plain": [
       "(0.5750759523809527, 0.5662833333333332, 0.5705701764065475)"
      ]
     },
     "execution_count": 6,
     "metadata": {},
     "output_type": "execute_result"
    }
   ],
   "source": [
    "# recursive\n",
    "np.mean(result_recursive.precision), np.mean(result_recursive.recall), np.mean(result_recursive.fscore)"
   ]
  },
  {
   "cell_type": "code",
   "execution_count": 7,
   "metadata": {},
   "outputs": [
    {
     "data": {
      "text/plain": [
       "(0.782516666666667, 0.2659466666666667, 0.3967475431381568)"
      ]
     },
     "execution_count": 7,
     "metadata": {},
     "output_type": "execute_result"
    }
   ],
   "source": [
    "# viterbi\n",
    "np.mean(result_viterbi.precision), np.mean(result_viterbi.recall), np.mean(result_viterbi.fscore)"
   ]
  },
  {
   "cell_type": "code",
   "execution_count": 8,
   "metadata": {},
   "outputs": [],
   "source": [
    "io.write_binary_model_file('model_recursive', model_recursive)"
   ]
  },
  {
   "cell_type": "markdown",
   "metadata": {},
   "source": [
    "### WER"
   ]
  },
  {
   "cell_type": "code",
   "execution_count": 9,
   "metadata": {},
   "outputs": [],
   "source": [
    "with open('morfessor_segmentation.txt') as f:\n",
    "    morfessor_segmentation = f.read().split('\\n')"
   ]
  },
  {
   "cell_type": "code",
   "execution_count": 10,
   "metadata": {},
   "outputs": [],
   "source": [
    "with open('siblang_segmentation.json', 'r') as f:\n",
    "    gold_std_dict = json.load(f)"
   ]
  },
  {
   "cell_type": "code",
   "execution_count": 11,
   "metadata": {},
   "outputs": [],
   "source": [
    "from wer import editDistance\n",
    "\n",
    "def get_wer_result(r, h):\n",
    "    res = editDistance(r, h)\n",
    "    return float(res[len(r)][len(h)]) / len(r)"
   ]
  },
  {
   "cell_type": "code",
   "execution_count": 12,
   "metadata": {},
   "outputs": [],
   "source": [
    "def evaluate_segmentation_morfessor(segmenter, segmentation):\n",
    "\n",
    "    wer_score_sum = 0\n",
    "\n",
    "    for i, word in enumerate(gold_std_dict):\n",
    "        wer_best = float('+inf')\n",
    "        seg = segmentation[i]\n",
    "        \n",
    "        for reference in gold_std_dict[word]:\n",
    "#             print(reference, seg)\n",
    "            wer_score = get_wer_result(reference.split(), seg.split())\n",
    "            wer_best = min(wer_best, wer_score)\n",
    "\n",
    "        wer_score_sum += wer_best    \n",
    "    \n",
    "    print('wer: {:.3%}\\n'.format(wer_score_sum / len(gold_std_dict)))"
   ]
  },
  {
   "cell_type": "code",
   "execution_count": 13,
   "metadata": {},
   "outputs": [
    {
     "name": "stdout",
     "output_type": "stream",
     "text": [
      "wer: 100.911%\n",
      "\n"
     ]
    }
   ],
   "source": [
    "evaluate_segmentation_morfessor(model_recursive, morfessor_segmentation)"
   ]
  }
 ],
 "metadata": {
  "kernelspec": {
   "display_name": "Python 3",
   "language": "python",
   "name": "python3"
  },
  "language_info": {
   "codemirror_mode": {
    "name": "ipython",
    "version": 3
   },
   "file_extension": ".py",
   "mimetype": "text/x-python",
   "name": "python",
   "nbconvert_exporter": "python",
   "pygments_lexer": "ipython3",
   "version": "3.7.3"
  }
 },
 "nbformat": 4,
 "nbformat_minor": 2
}
